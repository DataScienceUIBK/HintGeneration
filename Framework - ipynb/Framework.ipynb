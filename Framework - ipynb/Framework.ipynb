{
 "nbformat": 4,
 "nbformat_minor": 0,
 "metadata": {
  "colab": {
   "provenance": [],
   "gpuType": "T4"
  },
  "kernelspec": {
   "name": "python3",
   "display_name": "Python 3"
  },
  "language_info": {
   "name": "python"
  },
  "accelerator": "GPU"
 },
 "cells": [
  {
   "cell_type": "code",
   "source": [
    "!pip install -r requirements.txt"
   ],
   "metadata": {
    "colab": {
     "base_uri": "https://localhost:8080/",
     "height": 1000
    },
    "id": "2Ag9xDERIoWR",
    "outputId": "e4d72e67-e79b-4bf2-a4c8-795300dd4f90"
   },
   "execution_count": null,
   "outputs": []
  },
  {
   "cell_type": "code",
   "source": [
    "!wget -O /content/utils/Hint_Generation/Question_Classification/best_qc_model.pickle https://huggingface.co/datasets/JamshidJDMY/TriviaHG/resolve/main/qc_model/best_qc_model.pickle?download=true\n",
    "!python -m spacy download en_core_web_trf"
   ],
   "metadata": {
    "colab": {
     "base_uri": "https://localhost:8080/"
    },
    "id": "xawaUfndL4c6",
    "outputId": "5c8ca0dd-be01-4438-c7b1-e75e860d40b2"
   },
   "execution_count": null,
   "outputs": []
  },
  {
   "cell_type": "code",
   "source": [
    "!python Pipeline.py --help"
   ],
   "metadata": {
    "colab": {
     "base_uri": "https://localhost:8080/"
    },
    "id": "XA3N-srmIzxJ",
    "outputId": "13a03bed-f93a-4ac8-84a2-2939aca50460"
   },
   "execution_count": null,
   "outputs": []
  },
  {
   "cell_type": "code",
   "source": [
    "!python Pipeline.py \\\n",
    "  --generation_api_key esecret_rcubjjp5n715e4b4gkw791sjsk \\\n",
    "  --evaluation_api_key esecret_rcubjjp5n715e4b4gkw791sjsk \\\n",
    "  --input_file sample.json \\\n",
    "  --output_file sample_output.json \\\n",
    "  --model LLaMA_70b_Vanilla \\\n",
    "  --num_of_hints 7\n"
   ],
   "metadata": {
    "colab": {
     "base_uri": "https://localhost:8080/"
    },
    "id": "F5pNSq_JJJvh",
    "outputId": "5076b193-1503-411b-9996-a41b123bd428"
   },
   "execution_count": null,
   "outputs": []
  }
 ]
}
