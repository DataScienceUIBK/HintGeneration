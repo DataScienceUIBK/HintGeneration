{
 "nbformat": 4,
 "nbformat_minor": 0,
 "metadata": {
  "colab": {
   "provenance": [],
   "gpuType": "T4"
  },
  "kernelspec": {
   "name": "python3",
   "display_name": "Python 3"
  },
  "language_info": {
   "name": "python"
  },
  "accelerator": "GPU"
 },
 "cells": [
  {
   "cell_type": "code",
   "execution_count": null,
   "metadata": {
    "colab": {
     "base_uri": "https://localhost:8080/"
    },
    "id": "YySaGt8RaNtZ",
    "outputId": "093657d0-6b18-454b-ce07-74aa8450dffe"
   },
   "outputs": [],
   "source": [
    "!git clone https://github.com/DataScienceUIBK/TriviaHG.git\n",
    "!mv /content/TriviaHG/Framework/* /content/\n",
    "!rm -r TriviaHG/"
   ]
  },
  {
   "cell_type": "code",
   "source": [
    "!pip install -r requirements.txt\n",
    "!wget -O /content/utils/Hint_Generation/Question_Classification/best_qc_model.pickle https://huggingface.co/datasets/JamshidJDMY/TriviaHG/resolve/main/qc_model/best_qc_model.pickle?download=true\n",
    "!python -m spacy download en_core_web_trf"
   ],
   "metadata": {
    "colab": {
     "base_uri": "https://localhost:8080/",
     "height": 1000
    },
    "id": "UTuswWqkbtPW",
    "outputId": "b993e8e2-c879-42f1-a9b0-04f99e67fbcd"
   },
   "execution_count": null,
   "outputs": []
  },
  {
   "cell_type": "code",
   "source": [
    "!python Pipeline.py --help"
   ],
   "metadata": {
    "colab": {
     "base_uri": "https://localhost:8080/"
    },
    "id": "FWZY7k5Fb3cO",
    "outputId": "00bfabbe-7515-42c3-e6e5-947ef5e7ea8b"
   },
   "execution_count": null,
   "outputs": []
  },
  {
   "cell_type": "code",
   "source": [
    "!python Pipeline.py \\\n",
    "--generation_api_key esecret_rcubjjp5n715e4b4gkw791sjsk \\\n",
    "--evaluation_api_key esecret_rcubjjp5n715e4b4gkw791sjsk \\\n",
    "--input_file sample.json \\\n",
    "--output_file sample_output.json \\\n",
    "--model LLaMA_70b_Vanilla \\\n",
    "--num_of_hints 7"
   ],
   "metadata": {
    "colab": {
     "base_uri": "https://localhost:8080/"
    },
    "id": "ACQurZU4b7IH",
    "outputId": "bab778db-93f2-4410-8ffd-3e461253957f"
   },
   "execution_count": null,
   "outputs": []
  }
 ]
}
