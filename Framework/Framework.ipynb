{
  "nbformat": 4,
  "nbformat_minor": 0,
  "metadata": {
    "colab": {
      "provenance": [],
      "gpuType": "T4"
    },
    "kernelspec": {
      "name": "python3",
      "language": "python",
      "display_name": "Python 3 (ipykernel)"
    },
    "language_info": {
      "name": "python"
    },
    "accelerator": "GPU"
  },
  "cells": [
    {
      "cell_type": "code",
      "execution_count": null,
      "metadata": {
        "id": "YySaGt8RaNtZ"
      },
      "outputs": [],
      "source": [
        "!git clone https://github.com/DataScienceUIBK/TriviaHG.git\n",
        "!mv /content/TriviaHG/Framework/* /content/\n",
        "!rm -r TriviaHG/\n",
        "!rm Framework.ipynb"
      ]
    },
    {
      "cell_type": "code",
      "source": [
        "!pip install -r requirements.txt\n",
        "!wget -O /content/utils/Hint_Generation/Question_Classification/best_qc_model.pickle https://huggingface.co/datasets/JamshidJDMY/TriviaHG/resolve/main/qc_model/best_qc_model.pickle?download=true\n",
        "!python -m spacy download en_core_web_trf"
      ],
      "metadata": {
        "id": "UTuswWqkbtPW"
      },
      "execution_count": null,
      "outputs": []
    },
    {
      "cell_type": "code",
      "source": [
        "!python Pipeline.py --help"
      ],
      "metadata": {
        "id": "FWZY7k5Fb3cO"
      },
      "execution_count": null,
      "outputs": []
    },
    {
      "cell_type": "code",
      "source": [
        "# @title Pipeline Argument\n",
        "\n",
        "Generation_API_Key = 'esecret_xxxxxxxxxxxxxxxxxxxxxxxxxx' # @param {type:\"string\"}\n",
        "Evaluation_API_Key = 'esecret_xxxxxxxxxxxxxxxxxxxxxxxxxx' # @param {type:\"string\"}\n",
        "Input_File = 'sample.json' # @param {type:\"string\"}\n",
        "Output_File = 'sample_output.json' # @param {type:\"string\"}\n",
        "Model = 'LLaMA_70b_Finetuned' # @param [\"LLaMA_7b_Vanilla\", \"LLaMA_13b_Vanilla\", \"LLaMA_70b_Vanilla\", \"LLaMA_7b_Finetuned\", \"LLaMA_13b_Finetuned\", \"LLaMA_70b_Finetuned\", \"GPT_3.5\", \"GPT_4\"]\n",
        "Number_of_Hints = 7 # @param {type:\"slider\", min:1, max:10, step:1}\n",
        "\n",
        "!rm -r outputs\n",
        "!python Pipeline.py \\\n",
        "  --generation_api_key {Generation_API_Key} \\\n",
        "  --evaluation_api_key {Evaluation_API_Key} \\\n",
        "  --input_file {Input_File} \\\n",
        "  --output_file {Output_File} \\\n",
        "  --model {Model} \\\n",
        "  --num_of_hints {Number_of_Hints}"
      ],
      "metadata": {
        "cellView": "form",
        "id": "1yzJrCxevL2z"
      },
      "execution_count": null,
      "outputs": []
    },
    {
      "cell_type": "code",
      "execution_count": null,
      "outputs": [],
      "source": [
        "import json\n",
        "import plotly.graph_objects as go\n",
        "\n",
        "with open(f'/content/{Output_File}', mode='r', encoding='utf8') as f:\n",
        "  output = json.load(f)\n",
        "\n",
        "hint_values = []\n",
        "convergence_values = []\n",
        "familiarity_values = []\n",
        "for q in output:\n",
        "    hints = [f'<b>{q[\"Question\"]}</b>'] + q['Hints']\n",
        "    convergence = [' '] + q['Convergence']\n",
        "    familiarity = [' '] + q['Familiarity']\n",
        "    hint_values.extend(hints)\n",
        "    convergence_values.extend(convergence)\n",
        "    familiarity_values.extend(familiarity)\n",
        "\n",
        "fig = go.Figure(data=[go.Table(header=dict(values=[\"Hint\", \"HICOS\", \"HIFAS\"]),\n",
        "                 cells=dict(values=[hint_values, convergence_values, familiarity_values]))\n",
        "                     ])\n",
        "\n",
        "fig.show()\n"
      ],
      "metadata": {
        "ExecuteTime": {
          "start_time": "2024-02-06T19:30:50.281087Z",
          "end_time": "2024-02-06T19:30:50.306099Z"
        },
        "id": "vYekZ2tMt9n4"
      }
    }
  ]
}
